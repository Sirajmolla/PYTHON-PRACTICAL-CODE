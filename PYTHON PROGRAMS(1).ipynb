{
 "cells": [
  {
   "cell_type": "code",
   "execution_count": 2,
   "metadata": {},
   "outputs": [
    {
     "name": "stdout",
     "output_type": "stream",
     "text": [
      "SIRAJ\n"
     ]
    }
   ],
   "source": [
    "#FFFF\n",
    "print(\"SIRAJ\")"
   ]
  },
  {
   "cell_type": "code",
   "execution_count": 5,
   "metadata": {},
   "outputs": [
    {
     "name": "stdout",
     "output_type": "stream",
     "text": [
      "Enter the value of first variable:7\n",
      "Enter the value of second variable:9\n",
      "a is : 9 b is: 7\n"
     ]
    }
   ],
   "source": [
    "#swapping of two numbers(using temporary variable)\n",
    "a=int(input(\"Enter the value of first variable:\"))\n",
    "b=int(input(\"Enter the value of second variable:\"))\n",
    "temp=a      #temp is a temporary variable\n",
    "a=b\n",
    "b=temp\n",
    "print(\"a is :\",a,\"b is:\",b)"
   ]
  },
  {
   "cell_type": "code",
   "execution_count": 6,
   "metadata": {},
   "outputs": [
    {
     "name": "stdout",
     "output_type": "stream",
     "text": [
      "Enter the value of first variable:45\n",
      "Enter the value of second variable:96\n",
      "a is : 96 b is: 45\n"
     ]
    }
   ],
   "source": [
    "#swapping of two numbers without using a temporary variable\n",
    "a=int(input(\"Enter the value of first variable:\"))\n",
    "b=int(input(\"Enter the value of second variable:\"))\n",
    "a=a+b\n",
    "b=a-b\n",
    "a=a-b\n",
    "print(\"a is :\",a,\"b is:\",b)"
   ]
  },
  {
   "cell_type": "code",
   "execution_count": 7,
   "metadata": {},
   "outputs": [
    {
     "name": "stdout",
     "output_type": "stream",
     "text": [
      "Enter number:-96\n",
      "Number is negative\n"
     ]
    }
   ],
   "source": [
    "#check whether a number is positive or negative\n",
    "n=int(input(\"Enter number:\"))\n",
    "if(n>0):\n",
    "    print(\"Number is positive\")\n",
    "else:\n",
    "    print(\"Number is negative\")"
   ]
  },
  {
   "cell_type": "code",
   "execution_count": 8,
   "metadata": {},
   "outputs": [
    {
     "name": "stdout",
     "output_type": "stream",
     "text": [
      "Enter the number of elements you want to insert:10\n",
      "Enter element:78\n",
      "Enter element:45\n",
      "Enter element:42\n",
      "Enter element:15\n",
      "Enter element:78\n",
      "Enter element:89\n",
      "Enter element:43\n",
      "Enter element:654\n",
      "Enter element:12\n",
      "Enter element:17\n",
      "Average of elements in the list 107.3\n"
     ]
    }
   ],
   "source": [
    "#calculate the average of numbers in a given list\n",
    "n=int(input(\"Enter the number of elements you want to insert:\"))\n",
    "a=[]\n",
    "for i in range(0,n):\n",
    "    elem=int(input(\"Enter element:\"))\n",
    "    a.append(elem)\n",
    "avg=sum(a)/n\n",
    "print(\"Average of elements in the list\",round(avg,2))"
   ]
  },
  {
   "cell_type": "code",
   "execution_count": 9,
   "metadata": {},
   "outputs": [
    {
     "name": "stdout",
     "output_type": "stream",
     "text": [
      "Enter a number:1892\n",
      "The total sum of digits is: 20\n"
     ]
    }
   ],
   "source": [
    "#Find the sum of digits in a number\n",
    "n=int(input(\"Enter a number:\"))\n",
    "tot=0\n",
    "while(n>0):\n",
    "    dig=n%10\n",
    "    tot=tot+dig\n",
    "    n=n//10\n",
    "print(\"The total sum of digits is:\",tot)\n"
   ]
  },
  {
   "cell_type": "code",
   "execution_count": 13,
   "metadata": {},
   "outputs": [
    {
     "name": "stdout",
     "output_type": "stream",
     "text": [
      "Enter an integer:75\n",
      "Smallest divisor is : 3\n"
     ]
    }
   ],
   "source": [
    "#Find the smallest divisor of an integer\n",
    "n=int(input(\"Enter an integer:\"))\n",
    "a=[]\n",
    "for i in range(2,n+1):\n",
    "    if(n%i==0):\n",
    "        a.append(i)\n",
    "a.sort()\n",
    "print(\"Smallest divisor is :\",a[0])"
   ]
  },
  {
   "cell_type": "code",
   "execution_count": 14,
   "metadata": {},
   "outputs": [
    {
     "name": "stdout",
     "output_type": "stream",
     "text": [
      "Enter number:123467\n",
      "The number of digits in the numbers are: 6\n"
     ]
    }
   ],
   "source": [
    "#Count the number of digits in a number\n",
    "n=int(input(\"Enter number:\"))\n",
    "count=0\n",
    "while(n>0):\n",
    "    count=count+1\n",
    "    n=n//10\n",
    "print(\"The number of digits in the numbers are:\",count)"
   ]
  },
  {
   "cell_type": "code",
   "execution_count": 18,
   "metadata": {},
   "outputs": [
    {
     "name": "stdout",
     "output_type": "stream",
     "text": [
      "Enter number:111\n",
      "The number is palindrome\n"
     ]
    }
   ],
   "source": [
    "#Check if a number is a Palindrome\n",
    "n=int(input(\"Enter number:\"))\n",
    "temp=n\n",
    "rev=0\n",
    "while(n>0):\n",
    "    dig=n%10\n",
    "    rev=rev*10+dig\n",
    "    n=n//10\n",
    "if(temp==rev):\n",
    "    print(\"The number is palindrome\")\n",
    "else:\n",
    "     print(\"The number isn't a palindrome\")\n",
    "    "
   ]
  },
  {
   "cell_type": "code",
   "execution_count": 19,
   "metadata": {},
   "outputs": [
    {
     "name": "stdout",
     "output_type": "stream",
     "text": [
      "Enter year to be check:2016\n",
      "The year is a leap year\n"
     ]
    }
   ],
   "source": [
    "#Check Whether a Given Year is a Leap Year\n",
    "year=int(input(\"Enter year to be check:\"))\n",
    "if(year%4==0 and year%100!=0 or year%400==0):\n",
    "    print(\"The year is a leap year\")\n",
    "else:\n",
    "    print(\"The year isn't a leap year\")"
   ]
  },
  {
   "cell_type": "code",
   "execution_count": 20,
   "metadata": {},
   "outputs": [
    {
     "name": "stdout",
     "output_type": "stream",
     "text": [
      "Enter the temperature in celcius:32\n",
      "Temperature in farenheit is: 89.6\n"
     ]
    }
   ],
   "source": [
    "#Take the Temperature in Celcius and convert it to Farenheit\n",
    "celsius=int(input(\"Enter the temperature in celcius:\"))\n",
    "f=(celsius*1.8)+32\n",
    "print(\"Temperature in farenheit is:\",f)"
   ]
  },
  {
   "cell_type": "code",
   "execution_count": 21,
   "metadata": {},
   "outputs": [
    {
     "name": "stdout",
     "output_type": "stream",
     "text": [
      "Enter number:125\n",
      "Reverse of the number: 521\n"
     ]
    }
   ],
   "source": [
    "#Reverse a given number\n",
    "n=int(input(\"Enter number:\"))\n",
    "rev=0\n",
    "while(n>0):\n",
    "    dig=n%10\n",
    "    rev=rev*10+dig\n",
    "    n=n//10\n",
    "print(\"Reverse of the number:\",rev)"
   ]
  },
  {
   "cell_type": "code",
   "execution_count": 22,
   "metadata": {},
   "outputs": [
    {
     "name": "stdout",
     "output_type": "stream",
     "text": [
      "Enter an integer:25\n",
      "Factors are:\n",
      "5\n"
     ]
    }
   ],
   "source": [
    "#Compute Prime factors of an integer\n",
    "n=int(input(\"Enter an integer:\"))\n",
    "print(\"Factors are:\")\n",
    "i=1\n",
    "while(i<=n):\n",
    "    k=0\n",
    "    if(n%i==0):\n",
    "        j=1\n",
    "        while(j<=i):\n",
    "            if(i%j==0):\n",
    "                k=k+1\n",
    "            j=j+1\n",
    "        if(k==2):\n",
    "            print(i)\n",
    "    i=i+1"
   ]
  },
  {
   "cell_type": "code",
   "execution_count": 23,
   "metadata": {},
   "outputs": [
    {
     "name": "stdout",
     "output_type": "stream",
     "text": [
      "Enter an integer:25\n",
      "The divisors of the number are:\n",
      "1\n",
      "5\n",
      "25\n"
     ]
    }
   ],
   "source": [
    "#Generate all the divisors of an integer\n",
    "n=int(input(\"Enter an integer:\"))\n",
    "print(\"The divisors of the number are:\")\n",
    "for i in range(1,n+1):\n",
    "    if(n%i==0):\n",
    "        print(i)"
   ]
  },
  {
   "cell_type": "code",
   "execution_count": 24,
   "metadata": {},
   "outputs": [
    {
     "name": "stdout",
     "output_type": "stream",
     "text": [
      "Enter number to print the tables for:20\n",
      "20 x 1 = 20\n",
      "20 x 2 = 40\n",
      "20 x 3 = 60\n",
      "20 x 4 = 80\n",
      "20 x 5 = 100\n",
      "20 x 6 = 120\n",
      "20 x 7 = 140\n",
      "20 x 8 = 160\n",
      "20 x 9 = 180\n",
      "20 x 10 = 200\n"
     ]
    }
   ],
   "source": [
    "#Print the table of a given number\n",
    "n=int(input(\"Enter number to print the tables for:\"))\n",
    "for i in range(1,11):\n",
    "    print(n,\"x\",i,\"=\",n*i)"
   ]
  },
  {
   "cell_type": "code",
   "execution_count": 25,
   "metadata": {},
   "outputs": [
    {
     "name": "stdout",
     "output_type": "stream",
     "text": [
      "Enter the number of elements to be in the list:4\n",
      "Element:-12\n",
      "Element:34\n",
      "Element:35\n",
      "Element:89\n",
      "Sum of all positive even numbers: 34\n",
      "Sum of all positive odd numbers: 124\n",
      "Sum of negative numbers: -12\n"
     ]
    }
   ],
   "source": [
    "#Print sum of negative numbers,positive even numbers and positive odd numbers in a list\n",
    "n=int(input(\"Enter the number of elements to be in the list:\"))\n",
    "b=[]\n",
    "for i in range(0,n):\n",
    "    a=int(input(\"Element:\"))\n",
    "    b.append(a)\n",
    "sum1=0\n",
    "sum2=0\n",
    "sum3=0\n",
    "for j in b:\n",
    "    if(j>0):\n",
    "        if(j%2==0):\n",
    "            sum1=sum1+j\n",
    "        else:\n",
    "            sum2=sum2+j\n",
    "    else:\n",
    "        sum3=sum3+j\n",
    "print(\"Sum of all positive even numbers:\",sum1)\n",
    "print(\"Sum of all positive odd numbers:\",sum2)\n",
    "print(\"Sum of negative numbers:\",sum3)\n",
    "                       "
   ]
  },
  {
   "cell_type": "code",
   "execution_count": 26,
   "metadata": {},
   "outputs": [
    {
     "name": "stdout",
     "output_type": "stream",
     "text": [
      "Enter the number of elements to be in the list:5\n",
      "Element:45\n",
      "Element:20\n",
      "Element:80\n",
      "Element:93\n",
      "Element:3\n",
      "Largest even number: 80\n",
      "Largest odd number: 93\n"
     ]
    }
   ],
   "source": [
    "#Print largest even and largest odd number in a list\n",
    "n=int(input(\"Enter the number of elements to be in the list:\"))\n",
    "b=[]\n",
    "for i in range(0,n):\n",
    "    a=int(input(\"Element:\"))\n",
    "    b.append(a)\n",
    "c=[]\n",
    "d=[]\n",
    "for i in b:\n",
    "    if(i%2==0):\n",
    "        c.append(i)\n",
    "    else:\n",
    "        d.append(i)\n",
    "c.sort()\n",
    "d.sort()\n",
    "count1=0\n",
    "count2=0\n",
    "for k in c:\n",
    "    count1=count1+1\n",
    "for j in d:\n",
    "    count2=count2+1\n",
    "print(\"Largest even number:\",c[count1-1])\n",
    "print(\"Largest odd number:\",d[count2-1])"
   ]
  },
  {
   "cell_type": "code",
   "execution_count": 27,
   "metadata": {},
   "outputs": [
    {
     "name": "stdout",
     "output_type": "stream",
     "text": [
      "Enter any number:13\n",
      "The number isn't an armstrong number.\n"
     ]
    }
   ],
   "source": [
    "#Check if a number is an Armstrong number\n",
    "n=int(input(\"Enter any number:\"))\n",
    "a=list(map(int,str(n)))\n",
    "b=list(map(lambda x:x**3,a))\n",
    "if(sum(b)==n):\n",
    "    print(\"The number is an armstrong number.\")\n",
    "else:\n",
    "    print(\"The number isn't an armstrong number.\")"
   ]
  },
  {
   "cell_type": "code",
   "execution_count": 28,
   "metadata": {},
   "outputs": [
    {
     "name": "stdout",
     "output_type": "stream",
     "text": [
      "Enter the number of rows:10\n",
      "                1 \n",
      "               1      1 \n",
      "              1      2      1 \n",
      "             1      3      3      1 \n",
      "            1      4      6      4      1 \n",
      "           1      5     10     10      5      1 \n",
      "          1      6     15     20     15      6      1 \n",
      "         1      7     21     35     35     21      7      1 \n",
      "        1      8     28     56     70     56     28      8      1 \n",
      "       1      9     36     84    126    126     84     36      9      1 \n"
     ]
    }
   ],
   "source": [
    "#Print the Pascals triangle for n number of rows given by the user\n",
    "n=int(input(\"Enter the number of rows:\"))\n",
    "a=[]\n",
    "for i in range(n):\n",
    "    a.append([])\n",
    "    a[i].append(1)\n",
    "    for j in range(1,i):\n",
    "        a[i].append(a[i-1][j-1]+a[i-1][j])\n",
    "    if(n!=0):\n",
    "        a[i].append(1)\n",
    "for i in range(n):\n",
    "    print(\" \"*(n-i),end=\" \",sep=\" \")\n",
    "    for j in range(0,i+1):\n",
    "        print('{0:6}'.format(a[i][j]),end=\" \",sep=\" \")\n",
    "    print()"
   ]
  },
  {
   "cell_type": "code",
   "execution_count": 38,
   "metadata": {},
   "outputs": [
    {
     "name": "stdout",
     "output_type": "stream",
     "text": [
      "Enter any number:6\n",
      "The number is a perfect number\n"
     ]
    }
   ],
   "source": [
    "#Check if a enter number is a perfect number\n",
    "n=int(input(\"Enter any number:\"))\n",
    "sum1=0\n",
    "for i in range(1,n):\n",
    "    if(n%i==0):\n",
    "        sum1=sum1+i\n",
    "if(sum1==n):\n",
    "    print(\"The number is a perfect number\")\n",
    "else:\n",
    "    print(\"The number isn't a perfect number\")"
   ]
  },
  {
   "cell_type": "code",
   "execution_count": 41,
   "metadata": {},
   "outputs": [
    {
     "name": "stdout",
     "output_type": "stream",
     "text": [
      "Enter a number:145\n",
      "The number isn't strong number\n"
     ]
    }
   ],
   "source": [
    "#Check if a number is strong number\n",
    "\n",
    "num=int(input(\"Enter a number:\"))\n",
    "sum1=0\n",
    "temp=num\n",
    "while(num):\n",
    "    i=1\n",
    "    f=1\n",
    "    r=num%10\n",
    "    while(i<=r):\n",
    "        f=f*i\n",
    "        i=i+1\n",
    "        sum1=sum1+f\n",
    "        num=num//10\n",
    "if(sum1==temp):\n",
    "    print(\"The number is strong number\")\n",
    "else:\n",
    "    print(\"The number isn't strong number\")"
   ]
  },
  {
   "cell_type": "code",
   "execution_count": 43,
   "metadata": {},
   "outputs": [
    {
     "name": "stdout",
     "output_type": "stream",
     "text": [
      "Enter the first number:5\n",
      "Enter the second number:3\n",
      "LCM is: 15\n"
     ]
    }
   ],
   "source": [
    "#Find the LCM of two numbers\n",
    "a=int(input(\"Enter the first number:\"))\n",
    "b=int(input(\"Enter the second number:\"))\n",
    "if(a>b):\n",
    "    min1=a\n",
    "else:\n",
    "    min1=b\n",
    "while(1):\n",
    "    if(min1%a==0 and min1%b==0):\n",
    "        print(\"LCM is:\",min1)\n",
    "        break\n",
    "    min1=min1+1"
   ]
  },
  {
   "cell_type": "code",
   "execution_count": 45,
   "metadata": {},
   "outputs": [
    {
     "name": "stdout",
     "output_type": "stream",
     "text": [
      "Enter the first number:15\n",
      "Enter the second number:5\n",
      "The GCD of the two numbers is: 5\n"
     ]
    }
   ],
   "source": [
    "#Find the GCD of two number\n",
    "import math\n",
    "a=int(input(\"Enter the first number:\"))\n",
    "b=int(input(\"Enter the second number:\"))\n",
    "print(\"The GCD of the two numbers is:\",math.gcd(a,b))\n"
   ]
  },
  {
   "cell_type": "code",
   "execution_count": 46,
   "metadata": {},
   "outputs": [
    {
     "name": "stdout",
     "output_type": "stream",
     "text": [
      "Enter number 1:220\n",
      "Enter number 2:284\n",
      "Amicable\n"
     ]
    }
   ],
   "source": [
    "#Check if two numbers are Amicable numbers\n",
    "x=int(input('Enter number 1:'))\n",
    "y=int(input('Enter number 2:'))\n",
    "sum1=0\n",
    "sum2=0\n",
    "for i in range(1,x):\n",
    "    if x%i==0:\n",
    "        sum1+=i\n",
    "for j in range(1,y):\n",
    "    if y%j==0:\n",
    "        sum2+=j\n",
    "if(sum1==y and sum2==x):\n",
    "    print('Amicable')\n",
    "else:\n",
    "    print('Not Amicable')"
   ]
  },
  {
   "cell_type": "code",
   "execution_count": 47,
   "metadata": {},
   "outputs": [
    {
     "name": "stdout",
     "output_type": "stream",
     "text": [
      "Enter first side:15\n",
      "Enter second side:9\n",
      "Enter third side:7\n",
      "Area of the triangle is: 20.69\n"
     ]
    }
   ],
   "source": [
    "#Find the Area of a Triangle given all three sides\n",
    "import math\n",
    "a=int(input(\"Enter first side:\"))\n",
    "b=int(input(\"Enter second side:\"))\n",
    "c=int(input(\"Enter third side:\"))\n",
    "s=(a+b+c)/2\n",
    "area=math.sqrt(s*(s-a)*(s-b)*(s-c))\n",
    "print(\"Area of the triangle is:\",round(area,2))"
   ]
  },
  {
   "cell_type": "code",
   "execution_count": 48,
   "metadata": {},
   "outputs": [
    {
     "name": "stdout",
     "output_type": "stream",
     "text": [
      "Enter the first mass:1000000\n",
      "Enter the second mass:500000\n",
      "Enter the distance between the centres of the masses:20\n",
      "Hence,the gravitational force is: 0.08 N\n"
     ]
    }
   ],
   "source": [
    "#Find the Gravitational Force Acting Between Two Objects\n",
    "m1=float(input(\"Enter the first mass:\"))\n",
    "m2=float(input(\"Enter the second mass:\"))\n",
    "r=float(input(\"Enter the distance between the centres of the masses:\"))\n",
    "G=6.673*(10**-11)\n",
    "f=(G*m1*m2)/(r**2)\n",
    "print(\"Hence,the gravitational force is:\",round(f,2),\"N\")"
   ]
  },
  {
   "cell_type": "code",
   "execution_count": 49,
   "metadata": {},
   "outputs": [
    {
     "name": "stdout",
     "output_type": "stream",
     "text": [
      "Enter number:7\n",
      "Number is prime\n"
     ]
    }
   ],
   "source": [
    "#Check if a number is a Prime number\n",
    "a=int(input(\"Enter number:\"))\n",
    "k=0\n",
    "for i in range(2,a//2+1):\n",
    "    if(a%i==0):\n",
    "        k=k+1\n",
    "if(k<=0):\n",
    "    print(\"Number is prime\")\n",
    "else:\n",
    "    print(\"Number isn't prime\")\n",
    "    "
   ]
  },
  {
   "cell_type": "code",
   "execution_count": 50,
   "metadata": {},
   "outputs": [
    {
     "name": "stdout",
     "output_type": "stream",
     "text": [
      "Enter the value of x in degrees:30\n",
      "Enter the number of terms:10\n",
      "0.5\n"
     ]
    }
   ],
   "source": [
    "#Find the sum of sine series\n",
    "import math\n",
    "def sin(x,n):\n",
    "    sine=0\n",
    "    for i in range(n):\n",
    "        sign=(-1)**i\n",
    "        pi=22/7\n",
    "        y=x*(pi/180)\n",
    "        sine=sine+((y**(2.0*i+1))/math.factorial(2*i+1))*sign\n",
    "    return sine\n",
    "x=int(input(\"Enter the value of x in degrees:\"))\n",
    "n=int(input(\"Enter the number of terms:\"))\n",
    "print(round(sin(x,n),2))\n",
    "    "
   ]
  },
  {
   "cell_type": "code",
   "execution_count": 51,
   "metadata": {},
   "outputs": [
    {
     "name": "stdout",
     "output_type": "stream",
     "text": [
      "Enter the value of x in degrees:0\n",
      "Enter the number of terms:10\n",
      "1.0\n"
     ]
    }
   ],
   "source": [
    "#Find the sum of Cosine Series\n",
    "import math\n",
    "def cosine(x,n):\n",
    "    cosx=1\n",
    "    sign=-1\n",
    "    for i in range(2,n,2):\n",
    "        pi=22/7\n",
    "        y=x*(pi/180)\n",
    "        cosx=cosx+(sign*(y**i))/math.factorial(i)\n",
    "        sign=-sign\n",
    "    return cosx\n",
    "x=int(input(\"Enter the value of x in degrees:\"))\n",
    "n=int(input(\"Enter the number of terms:\"))\n",
    "print(round(cosine(x,n),2))"
   ]
  },
  {
   "cell_type": "code",
   "execution_count": 54,
   "metadata": {},
   "outputs": [
    {
     "name": "stdout",
     "output_type": "stream",
     "text": [
      "Enter number of elements:4\n",
      "enter element:5\n",
      "Enter the number to be counted:5\n",
      "Number of times 5 appears is 1\n"
     ]
    }
   ],
   "source": [
    "#Search the Number of times a particular number occurs in a list\n",
    "a=[]\n",
    "n=int(input(\"Enter number of elements:\"))\n",
    "for i in range(i,n+1):\n",
    "    b=int(input(\"enter element:\"))\n",
    "    a.append(b)\n",
    "k=0\n",
    "num=int(input(\"Enter the number to be counted:\"))\n",
    "for j in a:\n",
    "    if(j==num):\n",
    "        k=k+1\n",
    "print(\"Number of times\",num,\"appears is\",k)"
   ]
  },
  {
   "cell_type": "code",
   "execution_count": 55,
   "metadata": {},
   "outputs": [
    {
     "name": "stdout",
     "output_type": "stream",
     "text": [
      "Enter the number of elements:3\n",
      "Enter element:23\n",
      "Enter element:567\n",
      "Enter element:3\n",
      "Largest element is: 567\n"
     ]
    }
   ],
   "source": [
    "#Find the largest number in a list\n",
    "a=[]\n",
    "n=int(input(\"Enter the number of elements:\"))\n",
    "for i in range(1,n+1):\n",
    "    b=int(input(\"Enter element:\"))\n",
    "    a.append(b)\n",
    "a.sort()\n",
    "print(\"Largest element is:\",a[n-1])"
   ]
  },
  {
   "cell_type": "code",
   "execution_count": 56,
   "metadata": {},
   "outputs": [
    {
     "name": "stdout",
     "output_type": "stream",
     "text": [
      "Enter the number of elements:4\n",
      "Enter element:23\n",
      "Enter element:56\n",
      "Enter element:39\n",
      "Enter element:11\n",
      "Second Largest element is: 39\n"
     ]
    }
   ],
   "source": [
    "#Find the Second largest number in a list\n",
    "a=[]\n",
    "n=int(input(\"Enter the number of elements:\"))\n",
    "for i in range(1,n+1):\n",
    "    b=int(input(\"Enter element:\"))\n",
    "    a.append(b)\n",
    "a.sort()\n",
    "print(\"Second Largest element is:\",a[n-2])"
   ]
  },
  {
   "cell_type": "code",
   "execution_count": 57,
   "metadata": {},
   "outputs": [
    {
     "name": "stdout",
     "output_type": "stream",
     "text": [
      "Enter the number of elements:5\n",
      "Enter element:67\n",
      "Enter element:43\n",
      "Enter element:44\n",
      "Enter element:22\n",
      "Enter element:455\n",
      "The even lists [44, 22]\n",
      "The odd lists [67, 43, 455]\n"
     ]
    }
   ],
   "source": [
    "#Put Even and Odd elements in a list into two different lists\n",
    "a=[]\n",
    "n=int(input(\"Enter the number of elements:\"))\n",
    "for i in range(1,n+1):\n",
    "    b=int(input(\"Enter element:\"))\n",
    "    a.append(b)\n",
    "even=[]\n",
    "odd=[]\n",
    "for j in a:\n",
    "    if(j%2==0):\n",
    "        even.append(j)\n",
    "    else:\n",
    "        odd.append(j)\n",
    "print(\"The even lists\",even)\n",
    "print(\"The odd lists\",odd)"
   ]
  },
  {
   "cell_type": "code",
   "execution_count": 60,
   "metadata": {},
   "outputs": [
    {
     "ename": "NameError",
     "evalue": "name 'raw_input' is not defined",
     "output_type": "error",
     "traceback": [
      "\u001b[1;31m---------------------------------------------------------------------------\u001b[0m",
      "\u001b[1;31mNameError\u001b[0m                                 Traceback (most recent call last)",
      "\u001b[1;32m<ipython-input-60-14a7e00fb687>\u001b[0m in \u001b[0;36m<module>\u001b[1;34m\u001b[0m\n\u001b[0;32m      1\u001b[0m \u001b[1;31m#Detect if Two Strings are Anagrams\u001b[0m\u001b[1;33m\u001b[0m\u001b[1;33m\u001b[0m\u001b[1;33m\u001b[0m\u001b[0m\n\u001b[1;32m----> 2\u001b[1;33m \u001b[0ms1\u001b[0m\u001b[1;33m=\u001b[0m\u001b[0mraw_input\u001b[0m\u001b[1;33m(\u001b[0m\u001b[1;34m\"Enter first String:\"\u001b[0m\u001b[1;33m)\u001b[0m\u001b[1;33m\u001b[0m\u001b[1;33m\u001b[0m\u001b[0m\n\u001b[0m\u001b[0;32m      3\u001b[0m \u001b[0ms2\u001b[0m\u001b[1;33m=\u001b[0m\u001b[0mraw_input\u001b[0m\u001b[1;33m(\u001b[0m\u001b[1;34m\"Enter second String:\"\u001b[0m\u001b[1;33m)\u001b[0m\u001b[1;33m\u001b[0m\u001b[1;33m\u001b[0m\u001b[0m\n\u001b[0;32m      4\u001b[0m \u001b[1;32mif\u001b[0m\u001b[1;33m(\u001b[0m\u001b[0msorted\u001b[0m\u001b[1;33m(\u001b[0m\u001b[0ms1\u001b[0m\u001b[1;33m)\u001b[0m\u001b[1;33m==\u001b[0m\u001b[0msorted\u001b[0m\u001b[1;33m(\u001b[0m\u001b[0ms2\u001b[0m\u001b[1;33m)\u001b[0m\u001b[1;33m)\u001b[0m\u001b[1;33m:\u001b[0m\u001b[1;33m\u001b[0m\u001b[1;33m\u001b[0m\u001b[0m\n\u001b[0;32m      5\u001b[0m     \u001b[0mprint\u001b[0m\u001b[1;33m(\u001b[0m\u001b[1;34m\"The strings are anagrams.\"\u001b[0m\u001b[1;33m)\u001b[0m\u001b[1;33m\u001b[0m\u001b[1;33m\u001b[0m\u001b[0m\n",
      "\u001b[1;31mNameError\u001b[0m: name 'raw_input' is not defined"
     ]
    }
   ],
   "source": [
    "#Detect if Two Strings are Anagrams\n",
    "s1=raw_input(\"Enter first String:\")\n",
    "s2=raw_input(\"Enter second String:\")\n",
    "if(sorted(s1)==sorted(s2)):\n",
    "    print(\"The strings are anagrams.\")\n",
    "else:\n",
    "    print(\"The strings aren't anagrams.\")"
   ]
  },
  {
   "cell_type": "code",
   "execution_count": null,
   "metadata": {},
   "outputs": [],
   "source": []
  }
 ],
 "metadata": {
  "kernelspec": {
   "display_name": "Python 3",
   "language": "python",
   "name": "python3"
  },
  "language_info": {
   "codemirror_mode": {
    "name": "ipython",
    "version": 3
   },
   "file_extension": ".py",
   "mimetype": "text/x-python",
   "name": "python",
   "nbconvert_exporter": "python",
   "pygments_lexer": "ipython3",
   "version": "3.7.3"
  }
 },
 "nbformat": 4,
 "nbformat_minor": 2
}
